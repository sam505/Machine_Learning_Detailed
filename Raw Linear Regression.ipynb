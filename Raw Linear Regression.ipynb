{
 "cells": [
  {
   "cell_type": "code",
   "execution_count": 1,
   "metadata": {},
   "outputs": [],
   "source": [
    "from statistics import mean\n",
    "import numpy as np\n",
    "import matplotlib.pyplot as plt\n",
    "from matplotlib import style\n",
    "import random\n",
    "\n",
    "style.use('fivethirtyeight')\n",
    "x = np.array([1, 2, 3, 4, 5, 6], dtype=np.float64)\n",
    "y = np.array([5, 4, 6, 5, 8, 7], dtype=np.float64)"
   ]
  },
  {
   "cell_type": "code",
   "execution_count": 12,
   "metadata": {},
   "outputs": [
    {
     "name": "stdout",
     "output_type": "stream",
     "text": [
      "2.2359287054409007\n",
      "-2.8756097560975604\n",
      "[-2.8756097560975604, -0.6396810506566597, 1.596247654784241, 3.8321763602251417, 6.0681050656660425, 8.304033771106944, 10.539962476547844, 12.775891181988744, 15.011819887429645, 17.247748592870547, 19.48367729831145, 21.719606003752347, 23.95553470919325, 26.19146341463415, 28.427392120075048, 30.663320825515953, 32.89924953095685, 35.13517823639775, 37.371106941838654, 39.60703564727955, 41.84296435272046, 44.078893058161356, 46.314821763602254, 48.55075046904316, 50.78667917448406, 53.022607879924955, 55.25853658536586, 57.49446529080676, 59.730393996247656, 61.966322701688554, 64.20225140712947, 66.43818011257036, 68.67410881801126, 70.91003752345216, 73.14596622889306, 75.38189493433397, 77.61782363977487, 79.85375234521577, 82.08968105065667, 84.32560975609756]\n"
     ]
    },
    {
     "data": {
      "image/png": "[encoded data removed]",
      "text/plain": [
       "<Figure size 432x288 with 1 Axes>"
      ]
     },
     "metadata": {},
     "output_type": "display_data"
    }
   ],
   "source": [
    "def creating_dataset(hm, variance, step=2, correlation=False):\n",
    "    val = 1\n",
    "    y = []\n",
    "    for i in range(hm):\n",
    "        y_val = val + random.randrange(-variance, variance)\n",
    "        y.append(y_val)\n",
    "        if correlation and correlation == 'pos':\n",
    "            val += step\n",
    "        elif correlation and correlation== 'neg':\n",
    "            val -= step\n",
    "        x = [i for i in range(len(y))]\n",
    "    return np.array(x, dtype=np.float64), np.array(y, dtype=np.float64)\n",
    "\n",
    "def slope_and_intercept_line_best_fit(x, y):\n",
    "    gradient = ((mean(x) * mean(y)) - (mean(x * y))) / ((mean(x)) ** 2 - mean(x ** 2))\n",
    "    y_intercept = mean(y) - (gradient * mean(x))\n",
    "\n",
    "    return gradient, y_intercept\n",
    "\n",
    "\n",
    "x, y = creating_dataset(40, 20, 2, correlation='pos')\n",
    "\n",
    "m, b = slope_and_intercept_line_best_fit(x, y)\n",
    "print(m)\n",
    "\n",
    "print(b)\n",
    "\n",
    "regression_line = [m * i + b for i in x]\n",
    "print(regression_line)\n",
    "\n",
    "plt.scatter(x=x, y=y)\n",
    "plt.plot(x, regression_line)\n",
    "plt.show()"
   ]
  },
  {
   "cell_type": "code",
   "execution_count": 13,
   "metadata": {},
   "outputs": [
    {
     "name": "stdout",
     "output_type": "stream",
     "text": [
      "0.8370516200723263\n"
     ]
    }
   ],
   "source": [
    "def squared_error(y_original, y_line):\n",
    "    return sum((y_line - y_original) ** 2)\n",
    "\n",
    "\n",
    "def coefficient_of_determination(y_original, y_line):\n",
    "    y_mean_line = [mean(y_original) for _ in y_original]\n",
    "    squared_error_regression = squared_error(y_original, y_line)\n",
    "    squared_error_y_mean = squared_error(y_original, y_mean_line)\n",
    "    return 1 - (squared_error_regression / squared_error_y_mean)\n",
    "\n",
    "\n",
    "r_squared = coefficient_of_determination(y, regression_line)\n",
    "print(r_squared)"
   ]
  },
  {
   "cell_type": "code",
   "execution_count": null,
   "metadata": {},
   "outputs": [],
   "source": []
  }
 ],
 "metadata": {
  "kernelspec": {
   "display_name": "Python 3",
   "language": "python",
   "name": "python3"
  },
  "language_info": {
   "codemirror_mode": {
    "name": "ipython",
    "version": 3
   },
   "file_extension": ".py",
   "mimetype": "text/x-python",
   "name": "python",
   "nbconvert_exporter": "python",
   "pygments_lexer": "ipython3",
   "version": "3.7.6"
  }
 },
 "nbformat": 4,
 "nbformat_minor": 4
}
