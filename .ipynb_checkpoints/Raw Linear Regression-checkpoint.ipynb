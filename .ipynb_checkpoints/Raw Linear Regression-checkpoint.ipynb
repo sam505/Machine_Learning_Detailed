{
 "cells": [
  {
   "cell_type": "code",
   "execution_count": 1,
   "metadata": {},
   "outputs": [],
   "source": [
    "from statistics import mean\n",
    "import numpy as np\n",
    "import matplotlib.pyplot as plt\n",
    "from matplotlib import style\n",
    "\n",
    "style.use('fivethirtyeight')\n",
    "x = np.array([1, 2, 3, 4, 5, 6], dtype=np.float64)\n",
    "y = np.array([5, 4, 6, 5, 8, 7], dtype=np.float64)"
   ]
  },
  {
   "cell_type": "code",
   "execution_count": 2,
   "metadata": {},
   "outputs": [
    {
     "name": "stdout",
     "output_type": "stream",
     "text": [
      "0.6000000000000013\n",
      "3.7333333333333285\n",
      "[4.3333333333333295, 4.933333333333331, 5.533333333333332, 6.133333333333334, 6.733333333333335, 7.333333333333336]\n"
     ]
    },
    {
     "data": {
      "image/png": "[encoded data removed]",
      "text/plain": [
       "<Figure size 432x288 with 1 Axes>"
      ]
     },
     "metadata": {},
     "output_type": "display_data"
    }
   ],
   "source": [
    "def slope_and_intercept_line_best_fit(x, y):\n",
    "    gradient = ((mean(x) * mean(y)) - (mean(x * y))) / ((mean(x)) ** 2 - mean(x ** 2))\n",
    "    y_intercept = mean(y) - (gradient * mean(x))\n",
    "\n",
    "    return gradient, y_intercept\n",
    "\n",
    "\n",
    "m, b = slope_and_intercept_line_best_fit(x, y)\n",
    "print(m)\n",
    "\n",
    "print(b)\n",
    "\n",
    "regression_line = [m * i + b for i in x]\n",
    "print(regression_line)\n",
    "\n",
    "plt.scatter(x=x, y=y)\n",
    "plt.plot(x, regression_line)\n",
    "plt.show()"
   ]
  },
  {
   "cell_type": "code",
   "execution_count": 3,
   "metadata": {},
   "outputs": [
    {
     "name": "stdout",
     "output_type": "stream",
     "text": [
      "0.5815384615384616\n"
     ]
    }
   ],
   "source": [
    "def squared_error(y_original, y_line):\n",
    "    return sum((y_line - y_original) ** 2)\n",
    "\n",
    "\n",
    "def coefficient_of_determination(y_original, y_line):\n",
    "    y_mean_line = [mean(y_original) for _ in y_original]\n",
    "    squared_error_regression = squared_error(y_original, y_line)\n",
    "    squared_error_y_mean = squared_error(y_original, y_mean_line)\n",
    "    return 1 - (squared_error_regression / squared_error_y_mean)\n",
    "\n",
    "\n",
    "r_squared = coefficient_of_determination(y, regression_line)\n",
    "print(r_squared)"
   ]
  },
  {
   "cell_type": "code",
   "execution_count": null,
   "metadata": {},
   "outputs": [],
   "source": []
  }
 ],
 "metadata": {
  "kernelspec": {
   "display_name": "Python 3",
   "language": "python",
   "name": "python3"
  },
  "language_info": {
   "codemirror_mode": {
    "name": "ipython",
    "version": 3
   },
   "file_extension": ".py",
   "mimetype": "text/x-python",
   "name": "python",
   "nbconvert_exporter": "python",
   "pygments_lexer": "ipython3",
   "version": "3.7.6"
  }
 },
 "nbformat": 4,
 "nbformat_minor": 4
}
